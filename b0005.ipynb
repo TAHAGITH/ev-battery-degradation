{
 "cells": [
  {
   "cell_type": "code",
   "execution_count": 1,
   "metadata": {},
   "outputs": [],
   "source": [
    "from pymatreader import read_mat\n",
    "import pandas as pd\n",
    "import matplotlib.pyplot as plt\n",
    "import numpy as np\n",
    "import feather"
   ]
  },
  {
   "cell_type": "code",
   "execution_count": 2,
   "metadata": {},
   "outputs": [
    {
     "data": {
      "text/html": [
       "<div>\n",
       "<style scoped>\n",
       "    .dataframe tbody tr th:only-of-type {\n",
       "        vertical-align: middle;\n",
       "    }\n",
       "\n",
       "    .dataframe tbody tr th {\n",
       "        vertical-align: top;\n",
       "    }\n",
       "\n",
       "    .dataframe thead th {\n",
       "        text-align: right;\n",
       "    }\n",
       "</style>\n",
       "<table border=\"1\" class=\"dataframe\">\n",
       "  <thead>\n",
       "    <tr style=\"text-align: right;\">\n",
       "      <th></th>\n",
       "      <th>cycle</th>\n",
       "    </tr>\n",
       "  </thead>\n",
       "  <tbody>\n",
       "    <tr>\n",
       "      <th>ambient_temperature</th>\n",
       "      <td>[24, 24, 24, 24, 24, 24, 24, 24, 24, 24, 24, 2...</td>\n",
       "    </tr>\n",
       "    <tr>\n",
       "      <th>data</th>\n",
       "      <td>[{'Voltage_measured': [3.873017221300996, 3.47...</td>\n",
       "    </tr>\n",
       "    <tr>\n",
       "      <th>time</th>\n",
       "      <td>[[2008.0, 4.0, 2.0, 13.0, 8.0, 17.921], [2008....</td>\n",
       "    </tr>\n",
       "    <tr>\n",
       "      <th>type</th>\n",
       "      <td>[charge, discharge, charge, discharge, charge,...</td>\n",
       "    </tr>\n",
       "  </tbody>\n",
       "</table>\n",
       "</div>"
      ],
      "text/plain": [
       "                                                                 cycle\n",
       "ambient_temperature  [24, 24, 24, 24, 24, 24, 24, 24, 24, 24, 24, 2...\n",
       "data                 [{'Voltage_measured': [3.873017221300996, 3.47...\n",
       "time                 [[2008.0, 4.0, 2.0, 13.0, 8.0, 17.921], [2008....\n",
       "type                 [charge, discharge, charge, discharge, charge,..."
      ]
     },
     "metadata": {},
     "output_type": "display_data"
    },
    {
     "name": "stdout",
     "output_type": "stream",
     "text": [
      "[2187444.204 2190370.719 2239284.125]\n",
      "[2187444.204 2190370.719 2239284.125] [10302.35999999987, 2926.5150000001304, 48913.40599999996]\n"
     ]
    },
    {
     "data": {
      "text/html": [
       "<div>\n",
       "<style scoped>\n",
       "    .dataframe tbody tr th:only-of-type {\n",
       "        vertical-align: middle;\n",
       "    }\n",
       "\n",
       "    .dataframe tbody tr th {\n",
       "        vertical-align: top;\n",
       "    }\n",
       "\n",
       "    .dataframe thead th {\n",
       "        text-align: right;\n",
       "    }\n",
       "</style>\n",
       "<table border=\"1\" class=\"dataframe\">\n",
       "  <thead>\n",
       "    <tr style=\"text-align: right;\">\n",
       "      <th></th>\n",
       "      <th>cycle</th>\n",
       "    </tr>\n",
       "  </thead>\n",
       "  <tbody>\n",
       "    <tr>\n",
       "      <th>ambient_temperature</th>\n",
       "      <td>[24, 24, 24, 24, 24, 24, 24, 24, 24, 24, 24, 2...</td>\n",
       "    </tr>\n",
       "    <tr>\n",
       "      <th>data</th>\n",
       "      <td>[{'Voltage_measured': [3.873017221300996, 3.47...</td>\n",
       "    </tr>\n",
       "    <tr>\n",
       "      <th>time</th>\n",
       "      <td>[8243.671999999991, 4330.391000000003, 11156.4...</td>\n",
       "    </tr>\n",
       "    <tr>\n",
       "      <th>type</th>\n",
       "      <td>[charge, discharge, charge, discharge, charge,...</td>\n",
       "    </tr>\n",
       "  </tbody>\n",
       "</table>\n",
       "</div>"
      ],
      "text/plain": [
       "                                                                 cycle\n",
       "ambient_temperature  [24, 24, 24, 24, 24, 24, 24, 24, 24, 24, 24, 2...\n",
       "data                 [{'Voltage_measured': [3.873017221300996, 3.47...\n",
       "time                 [8243.671999999991, 4330.391000000003, 11156.4...\n",
       "type                 [charge, discharge, charge, discharge, charge,..."
      ]
     },
     "metadata": {},
     "output_type": "display_data"
    }
   ],
   "source": [
    "data = read_mat('B0005.mat')\n",
    "df = pd.DataFrame(data['B0005'])\n",
    "display(df)\n",
    "\n",
    "def to_sec(vec):\n",
    "    day, hr, min, sec = vec[2:]\n",
    "    return (day*86400 + hr*3600 + min*60 + sec)\n",
    "\n",
    "times = []\n",
    "for i in df['cycle']['time']:\n",
    "    times.append(to_sec(i))\n",
    "\n",
    "times = np.array(times) - times[0]\n",
    "print(times[-3:])\n",
    "del_times = [times[i+1] - times[i] for i in range(len(times)-1)]\n",
    "print(times[-3:], del_times[-3:])\n",
    "df['cycle'][2] = del_times\n",
    "df['cycle'][3] = df['cycle'][3][:-1]\n",
    "\n",
    "sep_indices = {'impedance': [], 'charge': [], 'discharge': []}\n",
    "for i in range(len(df['cycle'][3])):\n",
    "    for j in ['discharge', 'charge', 'impedance']:\n",
    "        if df['cycle'][3][i] == j: sep_indices[j].append(i)\n",
    "\n",
    "display(df)"
   ]
  },
  {
   "cell_type": "code",
   "execution_count": 3,
   "metadata": {},
   "outputs": [],
   "source": [
    "def get_from_indices(row, type):\n",
    "    row_data = df['cycle'][row]\n",
    "    req_data = []\n",
    "    for i in sep_indices[type]: \n",
    "        req_data.append(row_data[i])\n",
    "\n",
    "    return req_data\n",
    "\n",
    "def df_subpart(type):\n",
    "    df_info = {'temp': get_from_indices(0,type), \n",
    "               'data': get_from_indices(1,type), \n",
    "               'time': get_from_indices(2,type)}\n",
    "    '''m = 0\n",
    "    for i in list_dicts[0].keys():\n",
    "        df_info[i] = list_dicts[m][i]\n",
    "        m += 1'''\n",
    "\n",
    "    return pd.DataFrame.from_dict(df_info)"
   ]
  },
  {
   "cell_type": "code",
   "execution_count": 7,
   "metadata": {},
   "outputs": [
    {
     "data": {
      "text/html": [
       "<div>\n",
       "<style scoped>\n",
       "    .dataframe tbody tr th:only-of-type {\n",
       "        vertical-align: middle;\n",
       "    }\n",
       "\n",
       "    .dataframe tbody tr th {\n",
       "        vertical-align: top;\n",
       "    }\n",
       "\n",
       "    .dataframe thead th {\n",
       "        text-align: right;\n",
       "    }\n",
       "</style>\n",
       "<table border=\"1\" class=\"dataframe\">\n",
       "  <thead>\n",
       "    <tr style=\"text-align: right;\">\n",
       "      <th></th>\n",
       "      <th>temp</th>\n",
       "      <th>data</th>\n",
       "      <th>time</th>\n",
       "    </tr>\n",
       "  </thead>\n",
       "  <tbody>\n",
       "    <tr>\n",
       "      <th>0</th>\n",
       "      <td>24</td>\n",
       "      <td>{'Voltage_measured': [4.191491807505295, 4.190...</td>\n",
       "      <td>4330.391</td>\n",
       "    </tr>\n",
       "    <tr>\n",
       "      <th>1</th>\n",
       "      <td>24</td>\n",
       "      <td>{'Voltage_measured': [4.189773213846608, 4.188...</td>\n",
       "      <td>4312.406</td>\n",
       "    </tr>\n",
       "    <tr>\n",
       "      <th>2</th>\n",
       "      <td>24</td>\n",
       "      <td>{'Voltage_measured': [4.188186735991303, 4.187...</td>\n",
       "      <td>4291.984</td>\n",
       "    </tr>\n",
       "    <tr>\n",
       "      <th>3</th>\n",
       "      <td>24</td>\n",
       "      <td>{'Voltage_measured': [4.188461118855572, 4.187...</td>\n",
       "      <td>4271.750</td>\n",
       "    </tr>\n",
       "    <tr>\n",
       "      <th>4</th>\n",
       "      <td>24</td>\n",
       "      <td>{'Voltage_measured': [4.188298524761055, 4.187...</td>\n",
       "      <td>4269.375</td>\n",
       "    </tr>\n",
       "  </tbody>\n",
       "</table>\n",
       "</div>"
      ],
      "text/plain": [
       "   temp                                               data      time\n",
       "0    24  {'Voltage_measured': [4.191491807505295, 4.190...  4330.391\n",
       "1    24  {'Voltage_measured': [4.189773213846608, 4.188...  4312.406\n",
       "2    24  {'Voltage_measured': [4.188186735991303, 4.187...  4291.984\n",
       "3    24  {'Voltage_measured': [4.188461118855572, 4.187...  4271.750\n",
       "4    24  {'Voltage_measured': [4.188298524761055, 4.187...  4269.375"
      ]
     },
     "metadata": {},
     "output_type": "display_data"
    },
    {
     "data": {
      "image/png": "[encoded data removed]",
      "text/plain": [
       "<Figure size 720x720 with 7 Axes>"
      ]
     },
     "metadata": {
      "needs_background": "light"
     },
     "output_type": "display_data"
    }
   ],
   "source": [
    "df_ch = df_subpart('discharge')\n",
    "display(df_ch.head())\n",
    "\n",
    "datapoint = 24\n",
    "plt.figure(figsize=(10,10))\n",
    "m = 0\n",
    "for i in df_ch['data'][datapoint].keys(): \n",
    "    plt.subplot(331+m)\n",
    "    if i == 'Capacity':\n",
    "        cap = []\n",
    "        for j in range(len(df_ch)): cap.append((df_ch['data'][j]['Capacity']))\n",
    "        plt.plot(cap)\n",
    "        plt.title(i + f\": {len(cap)} points\")\n",
    "    else:    \n",
    "        plt.plot(df_ch['data'][datapoint][i])\n",
    "        plt.title(i + f\": {len(df_ch['data'][datapoint][i])} points\")\n",
    "    m += 1 \n",
    "plt.show()"
   ]
  },
  {
   "cell_type": "code",
   "execution_count": null,
   "metadata": {},
   "outputs": [],
   "source": []
  },
  {
   "cell_type": "code",
   "execution_count": 22,
   "metadata": {},
   "outputs": [],
   "source": []
  },
  {
   "cell_type": "code",
   "execution_count": 28,
   "metadata": {},
   "outputs": [
    {
     "name": "stderr",
     "output_type": "stream",
     "text": [
      "C:\\Users\\bhavy\\AppData\\Local\\Programs\\Python\\Python38\\lib\\site-packages\\statsmodels\\tsa\\statespace\\sarimax.py:978: UserWarning: Non-invertible starting MA parameters found. Using zeros as starting parameters.\n",
      "  warn('Non-invertible starting MA parameters found.'\n"
     ]
    },
    {
     "name": "stdout",
     "output_type": "stream",
     "text": [
      "[74.89444204]\n"
     ]
    }
   ],
   "source": [
    "from statsmodels.tsa.arima.model import ARIMA\n",
    "from random import random\n",
    "# contrived dataset\n",
    "data = [x + random() for x in range(1, 100)]\n",
    "# fit model\n",
    "model = ARIMA(data, order=(0, 0, 1))\n",
    "model_fit = model.fit()\n",
    "# make prediction\n",
    "yhat = model_fit.predict(len(data), len(data))\n",
    "print(yhat)"
   ]
  },
  {
   "cell_type": "code",
   "execution_count": 46,
   "metadata": {},
   "outputs": [
    {
     "name": "stdout",
     "output_type": "stream",
     "text": [
      "[99.19975795]\n"
     ]
    }
   ],
   "source": [
    "# HWES example\n",
    "from statsmodels.tsa.holtwinters import ExponentialSmoothing\n",
    "from random import random\n",
    "# contrived dataset\n",
    "data = [x + random() for x in range(1, 100)]\n",
    "# fit model\n",
    "model = ExponentialSmoothing(data)\n",
    "model_fit = model.fit()\n",
    "# make prediction\n",
    "yhat = model_fit.predict(len(data), len(data))\n",
    "print(yhat)"
   ]
  },
  {
   "cell_type": "code",
   "execution_count": 56,
   "metadata": {},
   "outputs": [
    {
     "name": "stderr",
     "output_type": "stream",
     "text": [
      "C:\\Users\\bhavy\\AppData\\Local\\Programs\\Python\\Python38\\lib\\site-packages\\numpy\\core\\_asarray.py:136: VisibleDeprecationWarning: Creating an ndarray from ragged nested sequences (which is a list-or-tuple of lists-or-tuples-or ndarrays with different lengths or shapes) is deprecated. If you meant to do this, you must specify 'dtype=object' when creating the ndarray\n",
      "  return array(a, dtype, copy=False, order=order, subok=True)\n"
     ]
    },
    {
     "data": {
      "text/plain": [
       "[<matplotlib.lines.Line2D at 0x2651a027700>]"
      ]
     },
     "execution_count": 56,
     "metadata": {},
     "output_type": "execute_result"
    },
    {
     "data": {
      "image/png": "[encoded data removed]",
      "text/plain": [
       "<Figure size 432x288 with 1 Axes>"
      ]
     },
     "metadata": {
      "needs_background": "light"
     },
     "output_type": "display_data"
    }
   ],
   "source": [
    "preds = [i for i in data]\n",
    "for i in range(100): \n",
    "    preds.append(model_fit.predict(len(data), len(data)))\n",
    "plt.plot(preds)"
   ]
  },
  {
   "cell_type": "code",
   "execution_count": null,
   "metadata": {},
   "outputs": [],
   "source": [
    "\n",
    "from pandas import read_csv\n",
    "from pandas import datetime\n",
    "from sklearn.metrics import mean_squared_error\n",
    "from math import sqrt\n",
    "from matplotlib import pyplot\n",
    "# load dataset\n",
    "def parser(x):\n",
    "\treturn datetime.strptime('190'+x, '%Y-%m')\n",
    "series = read_csv('shampoo-sales.csv', header=0, parse_dates=[0], index_col=0, squeeze=True, date_parser=parser)\n",
    "# split data into train and test\n",
    "X = series.values\n",
    "train, test = X[0:-12], X[-12:]\n",
    "# walk-forward validation\n",
    "history = [x for x in train]\n",
    "predictions = list()\n",
    "for i in range(len(test)):\n",
    "\t# make prediction\n",
    "\tpredictions.append(history[-1])\n",
    "\t# observation\n",
    "\thistory.append(test[i])\n",
    "# report performance\n",
    "rmse = sqrt(mean_squared_error(test, predictions))\n",
    "print('RMSE: %.3f' % rmse)\n",
    "# line plot of observed vs predicted\n",
    "pyplot.plot(test)\n",
    "pyplot.plot(predictions)\n",
    "pyplot.show()"
   ]
  }
 ],
 "metadata": {
  "interpreter": {
   "hash": "068c04cb3f5fd2314c01dc0c04828c3c52081d815c7fd87206c14974b0207ea1"
  },
  "kernelspec": {
   "display_name": "Python 3.8.2 64-bit",
   "language": "python",
   "name": "python3"
  },
  "language_info": {
   "codemirror_mode": {
    "name": "ipython",
    "version": 3
   },
   "file_extension": ".py",
   "mimetype": "text/x-python",
   "name": "python",
   "nbconvert_exporter": "python",
   "pygments_lexer": "ipython3",
   "version": "3.8.2"
  },
  "orig_nbformat": 4
 },
 "nbformat": 4,
 "nbformat_minor": 2
}
